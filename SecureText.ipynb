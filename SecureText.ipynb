{
 "cells": [
  {
   "cell_type": "markdown",
   "metadata": {},
   "source": [
    "# Project Outline: SecureText\n",
    "### Objectives:\n",
    "1. Develop a text encryption and decryption application.\n",
    "2. Ensure the security and integrity of textual data.\n",
    "3. Provide a user-friendly interface for seamless encryption and decryption.\n",
    "\n",
    "### Tools and Technologies:\n",
    "1. Programming Language: Python\n",
    "2. Cryptographic Libraries: PyCryptodome\n",
    "3. GUI Framework: Tkinter\n",
    "\n",
    "### Step-by-Step Methodology:\n",
    "1. Setup the Environment:\n",
    "Install Python: Python Download\n",
    "Install PyCryptodome:\n",
    "bash\n",
    "Copy code\n",
    "pip install pycryptodome\n",
    "2. Design the Application:\n",
    "Create a simple GUI using Tkinter.\n",
    "Provide input fields for plaintext and ciphertext.\n",
    "Provide buttons for encryption and decryption.\n",
    "3. Implement Cryptographic Algorithms:\n",
    "Use AES for symmetric encryption.\n",
    "Use RSA for asymmetric encryption.\n",
    "Use SHA for hashing (if needed)."
   ]
  },
  {
   "cell_type": "markdown",
   "metadata": {},
   "source": [
    "## 1. Import Libraries:"
   ]
  },
  {
   "cell_type": "code",
   "execution_count": 1,
   "metadata": {},
   "outputs": [],
   "source": [
    "from Crypto.Cipher import AES\n",
    "from Crypto.PublicKey import RSA\n",
    "from Crypto.Random import get_random_bytes\n",
    "import base64\n",
    "import tkinter as tk\n",
    "from tkinter import messagebox\n"
   ]
  },
  {
   "cell_type": "markdown",
   "metadata": {},
   "source": [
    "## 2. AES Encryption and Decryption:\n"
   ]
  },
  {
   "cell_type": "code",
   "execution_count": 4,
   "metadata": {},
   "outputs": [],
   "source": [
    "# AES Encryption\n",
    "def aes_encrypt(plaintext, key):\n",
    "    cipher = AES.new(key, AES.MODE_EAX)\n",
    "    nonce = cipher.nonce\n",
    "    ciphertext, tag = cipher.encrypt_and_digest(plaintext.encode('utf-8'))\n",
    "    return base64.b64encode(nonce + ciphertext).decode('utf-8')\n",
    "\n",
    "# AES Decryption\n",
    "def aes_decrypt(ciphertext, key):\n",
    "    ciphertext = base64.b64decode(ciphertext)\n",
    "    nonce = ciphertext[:16]\n",
    "    cipher = AES.new(key, AES.MODE_EAX, nonce=nonce)\n",
    "    plaintext = cipher.decrypt(ciphertext[16:]).decode('utf-8')\n",
    "    return plaintext\n"
   ]
  },
  {
   "cell_type": "markdown",
   "metadata": {},
   "source": [
    "## 3. RSA Key Generation, Encryption, and Decryption:"
   ]
  },
  {
   "cell_type": "code",
   "execution_count": 6,
   "metadata": {},
   "outputs": [],
   "source": [
    "# RSA Key Generation\n",
    "def generate_rsa_keys():\n",
    "    key = RSA.generate(2048)\n",
    "    private_key = key.export_key()\n",
    "    public_key = key.publickey().export_key()\n",
    "    return private_key, public_key\n",
    "\n",
    "# RSA Encryption\n",
    "def rsa_encrypt(plaintext, public_key):\n",
    "    public_key = RSA.import_key(public_key)\n",
    "    ciphertext = public_key.encrypt(plaintext.encode('utf-8'), None)\n",
    "    return base64.b64encode(ciphertext[0]).decode('utf-8')\n",
    "\n",
    "# RSA Decryption\n",
    "def rsa_decrypt(ciphertext, private_key):\n",
    "    private_key = RSA.import_key(private_key)\n",
    "    ciphertext = base64.b64decode(ciphertext)\n",
    "    plaintext = private_key.decrypt(ciphertext).decode('utf-8')\n",
    "    return plaintext\n"
   ]
  },
  {
   "cell_type": "markdown",
   "metadata": {},
   "source": [
    "## 4. GUI Implementation:"
   ]
  },
  {
   "cell_type": "code",
   "execution_count": 7,
   "metadata": {},
   "outputs": [],
   "source": [
    "class SecureTextApp:\n",
    "    def __init__(self, root):\n",
    "        self.root = root\n",
    "        self.root.title(\"SecureText Encryption\")\n",
    "        self.root.geometry(\"400x400\")\n",
    "\n",
    "        self.key_label = tk.Label(root, text=\"Key:\")\n",
    "        self.key_label.pack()\n",
    "        self.key_entry = tk.Entry(root, width=50)\n",
    "        self.key_entry.pack()\n",
    "\n",
    "        self.plaintext_label = tk.Label(root, text=\"Plaintext:\")\n",
    "        self.plaintext_label.pack()\n",
    "        self.plaintext_entry = tk.Entry(root, width=50)\n",
    "        self.plaintext_entry.pack()\n",
    "\n",
    "        self.ciphertext_label = tk.Label(root, text=\"Ciphertext:\")\n",
    "        self.ciphertext_label.pack()\n",
    "        self.ciphertext_entry = tk.Entry(root, width=50)\n",
    "        self.ciphertext_entry.pack()\n",
    "\n",
    "        self.encrypt_button = tk.Button(root, text=\"Encrypt\", command=self.encrypt_text)\n",
    "        self.encrypt_button.pack()\n",
    "        self.decrypt_button = tk.Button(root, text=\"Decrypt\", command=self.decrypt_text)\n",
    "        self.decrypt_button.pack()\n",
    "\n",
    "    def encrypt_text(self):\n",
    "        plaintext = self.plaintext_entry.get()\n",
    "        key = self.key_entry.get().encode('utf-8')\n",
    "        if len(key) < 16:\n",
    "            key = key.ljust(16, b'\\0')\n",
    "        elif len(key) > 16:\n",
    "            key = key[:16]\n",
    "        ciphertext = aes_encrypt(plaintext, key)\n",
    "        self.ciphertext_entry.delete(0, tk.END)\n",
    "        self.ciphertext_entry.insert(0, ciphertext)\n",
    "\n",
    "    def decrypt_text(self):\n",
    "        ciphertext = self.ciphertext_entry.get()\n",
    "        key = self.key_entry.get().encode('utf-8')\n",
    "        if len(key) < 16:\n",
    "            key = key.ljust(16, b'\\0')\n",
    "        elif len(key) > 16:\n",
    "            key = key[:16]\n",
    "        try:\n",
    "            plaintext = aes_decrypt(ciphertext, key)\n",
    "            self.plaintext_entry.delete(0, tk.END)\n",
    "            self.plaintext_entry.insert(0, plaintext)\n",
    "        except Exception as e:\n",
    "            messagebox.showerror(\"Decryption Error\", str(e))\n",
    "\n",
    "if __name__ == \"__main__\":\n",
    "    root = tk.Tk()\n",
    "    app = SecureTextApp(root)\n",
    "    root.mainloop()\n"
   ]
  },
  {
   "cell_type": "markdown",
   "metadata": {},
   "source": [
    "# Explanation of the Code:\n",
    "### 1. Import Libraries:\n",
    "-> The necessary libraries for cryptographic operations and GUI development are imported.<br>\n",
    "\n",
    "### 2. AES Encryption and Decryption Functions:\n",
    "-> aes_encrypt function takes plaintext and a key, and returns the encrypted ciphertext. <br>\n",
    "-> aes_decrypt function takes ciphertext and a key, and returns the decrypted plaintext.<br>\n",
    "\n",
    "### 3. RSA Key Generation, Encryption, and Decryption Functions:\n",
    "-> generate_rsa_keys function generates RSA public and private keys.<br>\n",
    "-> rsa_encrypt function encrypts plaintext using the public key.<br>\n",
    "-> rsa_decrypt function decrypts ciphertext using the private key.<br>\n",
    "\n",
    "### 4. GUI Implementation:\n",
    "-> A Tkinter GUI is created with input fields for key, plaintext, and ciphertext.<br>\n",
    "-> Buttons for encryption and decryption are provided, which call respective functions.<br>\n",
    "\n",
    "# Running the Project:\n",
    "1. Save the provided code in a file named securetext.py.\n",
    "2. Run the file using the command:\n",
    "        python securetext.py\n",
    "\n",
    "3. The GUI application will open, allowing you to enter a key and plaintext, and perform encryption and decryption.\n",
    "\n",
    "# Outcome:\n",
    "\n",
    "The SecureText application will provide a user-friendly interface to encrypt and decrypt textual communications using AES encryption. This ensures the confidentiality and integrity of the data, protecting it from unauthorized access and interception.\n",
    "\n"
   ]
  }
 ],
 "metadata": {
  "kernelspec": {
   "display_name": "Python 3",
   "language": "python",
   "name": "python3"
  },
  "language_info": {
   "codemirror_mode": {
    "name": "ipython",
    "version": 3
   },
   "file_extension": ".py",
   "mimetype": "text/x-python",
   "name": "python",
   "nbconvert_exporter": "python",
   "pygments_lexer": "ipython3",
   "version": "3.11.8"
  }
 },
 "nbformat": 4,
 "nbformat_minor": 2
}
